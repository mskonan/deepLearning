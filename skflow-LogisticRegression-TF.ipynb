{
 "cells": [
  {
   "cell_type": "code",
   "execution_count": 2,
   "metadata": {
    "collapsed": false
   },
   "outputs": [],
   "source": [
    "import random\n",
    "import pandas\n",
    "from sklearn.linear_model import LogisticRegression\n",
    "from sklearn.metrics import accuracy_score\n",
    "from sklearn.utils import check_array\n",
    "from sklearn.cross_validation import train_test_split\n",
    "\n",
    "import tensorflow as tf\n",
    "\n",
    "#import skflow"
   ]
  },
  {
   "cell_type": "code",
   "execution_count": 5,
   "metadata": {
    "collapsed": false
   },
   "outputs": [
    {
     "name": "stdout",
     "output_type": "stream",
     "text": [
      "0.664804469274\n"
     ]
    }
   ],
   "source": [
    "train = pandas.read_csv('data/titanic_train.csv')\n",
    "y, X = train['Survived'], train[['Age', 'SibSp', 'Fare']].fillna(0)\n",
    "X_train, X_test, y_train, y_test = train_test_split(X, y, test_size=0.2, random_state=42)\n",
    "\n",
    "lr = LogisticRegression()\n",
    "lr.fit(X_train, y_train)\n",
    "print(accuracy_score(lr.predict(X_test), y_test))"
   ]
  },
  {
   "cell_type": "code",
   "execution_count": 7,
   "metadata": {
    "collapsed": false
   },
   "outputs": [
    {
     "data": {
      "text/plain": [
       "Index([u'PassengerId', u'Survived', u'Pclass', u'Name', u'Sex', u'Age', u'SibSp', u'Parch', u'Ticket', u'Fare', u'Cabin', u'Embarked'], dtype='object')"
      ]
     },
     "execution_count": 7,
     "metadata": {},
     "output_type": "execute_result"
    }
   ],
   "source": [
    "train.columns"
   ]
  },
  {
   "cell_type": "code",
   "execution_count": 6,
   "metadata": {
    "collapsed": false
   },
   "outputs": [
    {
     "name": "stdout",
     "output_type": "stream",
     "text": [
      "0     0\n",
      "1     1\n",
      "2     1\n",
      "3     1\n",
      "4     0\n",
      "5     0\n",
      "6     0\n",
      "7     0\n",
      "8     1\n",
      "9     1\n",
      "10    1\n",
      "11    1\n",
      "12    0\n",
      "13    0\n",
      "14    0\n",
      "...\n",
      "876    0\n",
      "877    0\n",
      "878    0\n",
      "879    1\n",
      "880    1\n",
      "881    0\n",
      "882    0\n",
      "883    0\n",
      "884    0\n",
      "885    0\n",
      "886    0\n",
      "887    1\n",
      "888    0\n",
      "889    1\n",
      "890    0\n",
      "Name: Survived, Length: 891, dtype: int64      Age  SibSp      Fare\n",
      "0   22.0      1    7.2500\n",
      "1   38.0      1   71.2833\n",
      "2   26.0      0    7.9250\n",
      "3   35.0      1   53.1000\n",
      "4   35.0      0    8.0500\n",
      "5    0.0      0    8.4583\n",
      "6   54.0      0   51.8625\n",
      "7    2.0      3   21.0750\n",
      "8   27.0      0   11.1333\n",
      "9   14.0      1   30.0708\n",
      "10   4.0      1   16.7000\n",
      "11  58.0      0   26.5500\n",
      "12  20.0      0    8.0500\n",
      "13  39.0      1   31.2750\n",
      "14  14.0      0    7.8542\n",
      "15  55.0      0   16.0000\n",
      "16   2.0      4   29.1250\n",
      "17   0.0      0   13.0000\n",
      "18  31.0      1   18.0000\n",
      "19   0.0      0    7.2250\n",
      "20  35.0      0   26.0000\n",
      "21  34.0      0   13.0000\n",
      "22  15.0      0    8.0292\n",
      "23  28.0      0   35.5000\n",
      "24   8.0      3   21.0750\n",
      "25  38.0      1   31.3875\n",
      "26   0.0      0    7.2250\n",
      "27  19.0      3  263.0000\n",
      "28   0.0      0    7.8792\n",
      "29   0.0      0    7.8958\n",
      "30  40.0      0   27.7208\n",
      "31   0.0      1  146.5208\n",
      "32   0.0      0    7.7500\n",
      "33  66.0      0   10.5000\n",
      "34  28.0      1   82.1708\n",
      "35  42.0      1   52.0000\n",
      "36   0.0      0    7.2292\n",
      "37  21.0      0    8.0500\n",
      "38  18.0      2   18.0000\n",
      "39  14.0      1   11.2417\n",
      "40  40.0      1    9.4750\n",
      "41  27.0      1   21.0000\n",
      "42   0.0      0    7.8958\n",
      "43   3.0      1   41.5792\n",
      "44  19.0      0    7.8792\n",
      "45   0.0      0    8.0500\n",
      "46   0.0      1   15.5000\n",
      "47   0.0      0    7.7500\n",
      "48   0.0      2   21.6792\n",
      "49  18.0      1   17.8000\n",
      "50   7.0      4   39.6875\n",
      "51  21.0      0    7.8000\n",
      "52  49.0      1   76.7292\n",
      "53  29.0      1   26.0000\n",
      "54  65.0      0   61.9792\n",
      "55   0.0      0   35.5000\n",
      "56  21.0      0   10.5000\n",
      "57  28.5      0    7.2292\n",
      "58   5.0      1   27.7500\n",
      "59  11.0      5   46.9000\n",
      "     ...    ...       ...\n",
      "\n",
      "[891 rows x 3 columns]\n"
     ]
    }
   ],
   "source": [
    "print y, X"
   ]
  },
  {
   "cell_type": "code",
   "execution_count": 3,
   "metadata": {
    "collapsed": false
   },
   "outputs": [
    {
     "name": "stdout",
     "output_type": "stream",
     "text": [
      "0.664804469274\n"
     ]
    },
    {
     "ename": "NameError",
     "evalue": "name 'skflow' is not defined",
     "output_type": "error",
     "traceback": [
      "\u001b[1;31m---------------------------------------------------------------------------\u001b[0m",
      "\u001b[1;31mNameError\u001b[0m                                 Traceback (most recent call last)",
      "\u001b[1;32m<ipython-input-3-e718e052bc89>\u001b[0m in \u001b[0;36m<module>\u001b[1;34m()\u001b[0m\n\u001b[0;32m     11\u001b[0m \u001b[1;33m\u001b[0m\u001b[0m\n\u001b[0;32m     12\u001b[0m \u001b[0mrandom\u001b[0m\u001b[1;33m.\u001b[0m\u001b[0mseed\u001b[0m\u001b[1;33m(\u001b[0m\u001b[1;36m42\u001b[0m\u001b[1;33m)\u001b[0m\u001b[1;33m\u001b[0m\u001b[0m\n\u001b[1;32m---> 13\u001b[1;33m tflr = skflow.TensorFlowLinearClassifier(n_classes=2, batch_size=128,\n\u001b[0m\u001b[0;32m     14\u001b[0m                                          steps=500, learning_rate=0.05)\n\u001b[0;32m     15\u001b[0m \u001b[0mtflr\u001b[0m\u001b[1;33m.\u001b[0m\u001b[0mfit\u001b[0m\u001b[1;33m(\u001b[0m\u001b[0mX_train\u001b[0m\u001b[1;33m,\u001b[0m \u001b[0my_train\u001b[0m\u001b[1;33m)\u001b[0m\u001b[1;33m\u001b[0m\u001b[0m\n",
      "\u001b[1;31mNameError\u001b[0m: name 'skflow' is not defined"
     ]
    }
   ],
   "source": [
    "# Linear classifier.\n",
    "\n",
    "random.seed(42)\n",
    "tflr = skflow.TensorFlowLinearClassifier(n_classes=2, batch_size=128,\n",
    "                                         steps=500, learning_rate=0.05)\n",
    "tflr.fit(X_train, y_train)\n",
    "print(accuracy_score(tflr.predict(X_test), y_test))"
   ]
  },
  {
   "cell_type": "code",
   "execution_count": null,
   "metadata": {
    "collapsed": true
   },
   "outputs": [],
   "source": [
    "# 3 layer neural network with rectified linear activation.\n",
    "\n",
    "random.seed(42)\n",
    "classifier = skflow.TensorFlowDNNClassifier(hidden_units=[10, 20, 10],\n",
    "    n_classes=2, batch_size=128, steps=500, learning_rate=0.05)\n",
    "classifier.fit(X_train, y_train)\n",
    "print(accuracy_score(classifier.predict(X_test), y_test))\n",
    "\n",
    "# 3 layer neural network with hyperbolic tangent activation.\n",
    "\n",
    "def dnn_tanh(X, y):\n",
    "    layers = skflow.ops.dnn(X, [10, 20, 10], tf.tanh)\n",
    "    return skflow.models.logistic_regression(layers, y)"
   ]
  },
  {
   "cell_type": "code",
   "execution_count": null,
   "metadata": {
    "collapsed": true
   },
   "outputs": [],
   "source": [
    "random.seed(42)\n",
    "classifier = skflow.TensorFlowEstimator(model_fn=dnn_tanh,\n",
    "    n_classes=2, batch_size=128, steps=500, learning_rate=0.05)\n",
    "classifier.fit(X_train, y_train)\n",
    "print(accuracy_score(classifier.predict(X_test), y_test))"
   ]
  }
 ],
 "metadata": {
  "kernelspec": {
   "display_name": "Python 2",
   "language": "python",
   "name": "python2"
  },
  "language_info": {
   "codemirror_mode": {
    "name": "ipython",
    "version": 2
   },
   "file_extension": ".py",
   "mimetype": "text/x-python",
   "name": "python",
   "nbconvert_exporter": "python",
   "pygments_lexer": "ipython2",
   "version": "2.7.6"
  }
 },
 "nbformat": 4,
 "nbformat_minor": 0
}
