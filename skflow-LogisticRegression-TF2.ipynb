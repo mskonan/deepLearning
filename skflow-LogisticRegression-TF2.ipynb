{
 "cells": [
  {
   "cell_type": "code",
   "execution_count": 10,
   "metadata": {
    "collapsed": false
   },
   "outputs": [],
   "source": [
    "import random\n",
    "import pandas\n",
    "from sklearn.linear_model import LogisticRegression\n",
    "from sklearn.metrics import accuracy_score\n",
    "from sklearn.utils import check_array\n",
    "from sklearn.cross_validation import train_test_split\n",
    "\n",
    "import tensorflow as tf\n",
    "\n",
    "import skflow"
   ]
  },
  {
   "cell_type": "code",
   "execution_count": 4,
   "metadata": {
    "collapsed": false
   },
   "outputs": [
    {
     "name": "stdout",
     "output_type": "stream",
     "text": [
      "0.664804469274\n"
     ]
    }
   ],
   "source": [
    "train = pandas.read_csv('data/titanic_train.csv')\n",
    "y, X = train['Survived'], train[['Age', 'SibSp', 'Fare']].fillna(0)\n",
    "X_train, X_test, y_train, y_test = train_test_split(X, y, test_size=0.2, random_state=42)\n",
    "\n",
    "lr = LogisticRegression()\n",
    "lr.fit(X_train, y_train)\n",
    "print(accuracy_score(lr.predict(X_test), y_test))"
   ]
  },
  {
   "cell_type": "code",
   "execution_count": 5,
   "metadata": {
    "collapsed": false
   },
   "outputs": [
    {
     "data": {
      "text/plain": [
       "Index([u'PassengerId', u'Survived', u'Pclass', u'Name', u'Sex', u'Age',\n",
       "       u'SibSp', u'Parch', u'Ticket', u'Fare', u'Cabin', u'Embarked'],\n",
       "      dtype='object')"
      ]
     },
     "execution_count": 5,
     "metadata": {},
     "output_type": "execute_result"
    }
   ],
   "source": [
    "train.columns"
   ]
  },
  {
   "cell_type": "code",
   "execution_count": 6,
   "metadata": {
    "collapsed": false
   },
   "outputs": [
    {
     "name": "stdout",
     "output_type": "stream",
     "text": [
      "0      0\n",
      "1      1\n",
      "2      1\n",
      "3      1\n",
      "4      0\n",
      "5      0\n",
      "6      0\n",
      "7      0\n",
      "8      1\n",
      "9      1\n",
      "10     1\n",
      "11     1\n",
      "12     0\n",
      "13     0\n",
      "14     0\n",
      "15     1\n",
      "16     0\n",
      "17     1\n",
      "18     0\n",
      "19     1\n",
      "20     0\n",
      "21     1\n",
      "22     1\n",
      "23     1\n",
      "24     0\n",
      "25     1\n",
      "26     0\n",
      "27     0\n",
      "28     1\n",
      "29     0\n",
      "      ..\n",
      "861    0\n",
      "862    1\n",
      "863    0\n",
      "864    0\n",
      "865    1\n",
      "866    1\n",
      "867    0\n",
      "868    0\n",
      "869    1\n",
      "870    0\n",
      "871    1\n",
      "872    0\n",
      "873    0\n",
      "874    1\n",
      "875    1\n",
      "876    0\n",
      "877    0\n",
      "878    0\n",
      "879    1\n",
      "880    1\n",
      "881    0\n",
      "882    0\n",
      "883    0\n",
      "884    0\n",
      "885    0\n",
      "886    0\n",
      "887    1\n",
      "888    0\n",
      "889    1\n",
      "890    0\n",
      "Name: Survived, dtype: int64      Age  SibSp      Fare\n",
      "0     22      1    7.2500\n",
      "1     38      1   71.2833\n",
      "2     26      0    7.9250\n",
      "3     35      1   53.1000\n",
      "4     35      0    8.0500\n",
      "5      0      0    8.4583\n",
      "6     54      0   51.8625\n",
      "7      2      3   21.0750\n",
      "8     27      0   11.1333\n",
      "9     14      1   30.0708\n",
      "10     4      1   16.7000\n",
      "11    58      0   26.5500\n",
      "12    20      0    8.0500\n",
      "13    39      1   31.2750\n",
      "14    14      0    7.8542\n",
      "15    55      0   16.0000\n",
      "16     2      4   29.1250\n",
      "17     0      0   13.0000\n",
      "18    31      1   18.0000\n",
      "19     0      0    7.2250\n",
      "20    35      0   26.0000\n",
      "21    34      0   13.0000\n",
      "22    15      0    8.0292\n",
      "23    28      0   35.5000\n",
      "24     8      3   21.0750\n",
      "25    38      1   31.3875\n",
      "26     0      0    7.2250\n",
      "27    19      3  263.0000\n",
      "28     0      0    7.8792\n",
      "29     0      0    7.8958\n",
      "..   ...    ...       ...\n",
      "861   21      1   11.5000\n",
      "862   48      0   25.9292\n",
      "863    0      8   69.5500\n",
      "864   24      0   13.0000\n",
      "865   42      0   13.0000\n",
      "866   27      1   13.8583\n",
      "867   31      0   50.4958\n",
      "868    0      0    9.5000\n",
      "869    4      1   11.1333\n",
      "870   26      0    7.8958\n",
      "871   47      1   52.5542\n",
      "872   33      0    5.0000\n",
      "873   47      0    9.0000\n",
      "874   28      1   24.0000\n",
      "875   15      0    7.2250\n",
      "876   20      0    9.8458\n",
      "877   19      0    7.8958\n",
      "878    0      0    7.8958\n",
      "879   56      0   83.1583\n",
      "880   25      0   26.0000\n",
      "881   33      0    7.8958\n",
      "882   22      0   10.5167\n",
      "883   28      0   10.5000\n",
      "884   25      0    7.0500\n",
      "885   39      0   29.1250\n",
      "886   27      0   13.0000\n",
      "887   19      0   30.0000\n",
      "888    0      1   23.4500\n",
      "889   26      0   30.0000\n",
      "890   32      0    7.7500\n",
      "\n",
      "[891 rows x 3 columns]\n"
     ]
    }
   ],
   "source": [
    "print y, X"
   ]
  },
  {
   "cell_type": "code",
   "execution_count": 11,
   "metadata": {
    "collapsed": false
   },
   "outputs": [
    {
     "name": "stdout",
     "output_type": "stream",
     "text": [
      "Step #1, avg. loss: 9.65833\n",
      "Step #51, epoch #8, avg. loss: 3.02035\n",
      "Step #101, epoch #16, avg. loss: 3.04305\n",
      "Step #151, epoch #25, avg. loss: 2.88455\n",
      "Step #201, epoch #33, avg. loss: 2.90514\n",
      "Step #251, epoch #41, avg. loss: 2.92437\n",
      "Step #301, epoch #50, avg. loss: 2.86000\n",
      "Step #351, epoch #58, avg. loss: 2.88256\n",
      "Step #401, epoch #66, avg. loss: 2.85180\n",
      "Step #451, epoch #75, avg. loss: 2.86843\n",
      "0.608938547486\n"
     ]
    }
   ],
   "source": [
    "# Linear classifier.\n",
    "\n",
    "random.seed(42)\n",
    "tflr = skflow.TensorFlowLinearClassifier(n_classes=2, batch_size=128,\n",
    "                                         steps=500, learning_rate=0.05)\n",
    "tflr.fit(X_train, y_train)\n",
    "print(accuracy_score(tflr.predict(X_test), y_test))"
   ]
  },
  {
   "cell_type": "code",
   "execution_count": 14,
   "metadata": {
    "collapsed": false
   },
   "outputs": [
    {
     "name": "stdout",
     "output_type": "stream",
     "text": [
      "Step #1, avg. loss: 10.06707\n",
      "Step #51, epoch #8, avg. loss: 0.73915\n",
      "Step #101, epoch #16, avg. loss: 0.62324\n",
      "Step #151, epoch #25, avg. loss: 0.62795\n",
      "Step #201, epoch #33, avg. loss: 0.62312\n",
      "Step #251, epoch #41, avg. loss: 0.62120\n",
      "Step #301, epoch #50, avg. loss: 0.61702\n",
      "Step #351, epoch #58, avg. loss: 0.61531\n",
      "Step #401, epoch #66, avg. loss: 0.61496\n",
      "Step #451, epoch #75, avg. loss: 0.61467\n",
      "0.653631284916\n"
     ]
    }
   ],
   "source": [
    "# 3 layer neural network with rectified linear activation.\n",
    "\n",
    "random.seed(42)\n",
    "classifier = skflow.TensorFlowDNNClassifier(hidden_units=[10, 20, 10],\n",
    "    n_classes=2, batch_size=128, steps=500, learning_rate=0.05)\n",
    "classifier.fit(X_train, y_train)\n",
    "print(accuracy_score(classifier.predict(X_test), y_test))"
   ]
  },
  {
   "cell_type": "code",
   "execution_count": 15,
   "metadata": {
    "collapsed": false
   },
   "outputs": [],
   "source": [
    "# 3 layer neural network with hyperbolic tangent activation.\n",
    "\n",
    "def dnn_tanh(X, y):\n",
    "    layers = skflow.ops.dnn(X, [10, 20, 10], tf.tanh)\n",
    "    return skflow.models.logistic_regression(layers, y)"
   ]
  },
  {
   "cell_type": "code",
   "execution_count": 13,
   "metadata": {
    "collapsed": false
   },
   "outputs": [
    {
     "name": "stdout",
     "output_type": "stream",
     "text": [
      "Step #1, avg. loss: 0.68093\n",
      "Step #51, epoch #8, avg. loss: 0.64784\n",
      "Step #101, epoch #16, avg. loss: 0.63315\n",
      "Step #151, epoch #25, avg. loss: 0.63321\n",
      "Step #201, epoch #33, avg. loss: 0.62441\n",
      "Step #251, epoch #41, avg. loss: 0.61640\n",
      "Step #301, epoch #50, avg. loss: 0.61379\n",
      "Step #351, epoch #58, avg. loss: 0.61022\n",
      "Step #401, epoch #66, avg. loss: 0.61547\n",
      "Step #451, epoch #75, avg. loss: 0.61014\n",
      "0.692737430168\n"
     ]
    }
   ],
   "source": [
    "random.seed(42)\n",
    "classifier = skflow.TensorFlowEstimator(model_fn=dnn_tanh,\n",
    "    n_classes=2, batch_size=128, steps=500, learning_rate=0.05)\n",
    "classifier.fit(X_train, y_train)\n",
    "print(accuracy_score(classifier.predict(X_test), y_test))"
   ]
  },
  {
   "cell_type": "code",
   "execution_count": null,
   "metadata": {
    "collapsed": true
   },
   "outputs": [],
   "source": []
  }
 ],
 "metadata": {
  "kernelspec": {
   "display_name": "Python 2",
   "language": "python",
   "name": "python2"
  },
  "language_info": {
   "codemirror_mode": {
    "name": "ipython",
    "version": 2
   },
   "file_extension": ".py",
   "mimetype": "text/x-python",
   "name": "python",
   "nbconvert_exporter": "python",
   "pygments_lexer": "ipython2",
   "version": "2.7.10"
  }
 },
 "nbformat": 4,
 "nbformat_minor": 0
}
